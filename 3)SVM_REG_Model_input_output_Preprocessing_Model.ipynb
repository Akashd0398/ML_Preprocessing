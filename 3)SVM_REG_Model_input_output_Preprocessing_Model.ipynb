{
 "cells": [
  {
   "cell_type": "code",
   "execution_count": 1,
   "id": "1236e7ce-6751-477e-9d41-54aa6fb2f453",
   "metadata": {},
   "outputs": [],
   "source": [
    "#pandas library is imported to handle files, tabes\n",
    "#pd denotes pandas where we use in this module in place of pandas\n",
    "import pandas as pd"
   ]
  },
  {
   "cell_type": "code",
   "execution_count": 2,
   "id": "cf7780c4-2e2c-457c-b7e4-4748577b2ee9",
   "metadata": {},
   "outputs": [],
   "source": [
    "#reads dataset using pandas function\n",
    "dataset = pd.read_csv(\"50_Startups.csv\")"
   ]
  },
  {
   "cell_type": "code",
   "execution_count": 3,
   "id": "07374c22-38e7-4b02-9103-b74ea08efb21",
   "metadata": {},
   "outputs": [],
   "source": [
    "#Due to Nominal data present in dataset (i.e) State, Use get_dummies to split (One hot encoding)\n",
    "#drop_first is used to eliminate 1st column of state as the result will be same even it is dropped and memory consuming is less\n",
    "dataset = pd.get_dummies(dataset,dtype=int, drop_first = True)\n",
    "#shows the input dataset"
   ]
  },
  {
   "cell_type": "code",
   "execution_count": 4,
   "id": "130a2bc2-cbd0-4c9d-9706-1baae0f71f44",
   "metadata": {},
   "outputs": [
    {
     "data": {
      "text/plain": [
       "Index(['R&D Spend', 'Administration', 'Marketing Spend', 'Profit',\n",
       "       'State_Florida', 'State_New York'],\n",
       "      dtype='object')"
      ]
     },
     "execution_count": 4,
     "metadata": {},
     "output_type": "execute_result"
    }
   ],
   "source": [
    "dataset.columns\n",
    "#for viewing all columns of dataset"
   ]
  },
  {
   "cell_type": "code",
   "execution_count": 5,
   "id": "ce58fa88-ee45-422c-8b1d-12669288aa19",
   "metadata": {},
   "outputs": [],
   "source": [
    "#spliting input and output as independent and dependent\n",
    "independent=dataset[['R&D Spend', 'Administration', 'Marketing Spend','State_Florida', 'State_New York']]\n",
    "#independent"
   ]
  },
  {
   "cell_type": "code",
   "execution_count": 6,
   "id": "d81a03d2-06ab-4f38-be97-c23b74c2eb2d",
   "metadata": {},
   "outputs": [],
   "source": [
    "dependent=dataset[['Profit']]\n",
    "#dependent"
   ]
  },
  {
   "cell_type": "code",
   "execution_count": 7,
   "id": "a32e45d2-0635-452d-8a47-99bc030cb0a1",
   "metadata": {},
   "outputs": [],
   "source": [
    "#Spliting training set and test set using sklearn\n",
    "from sklearn.model_selection import train_test_split\n",
    "#X - Input , Y - output\n",
    "X_Train, X_Test, Y_Train, Y_Test = train_test_split(independent, dependent, test_size = 0.30, random_state=0)"
   ]
  },
  {
   "cell_type": "code",
   "execution_count": 8,
   "id": "b04405da-11a5-47ad-bdd4-89919e718324",
   "metadata": {},
   "outputs": [],
   "source": [
    "#Using standardization function from sklearn\n",
    "#Standardization is done for converting large values into a range of values to get better results and save memory\n",
    "from sklearn.preprocessing import StandardScaler\n",
    "sc = StandardScaler()\n",
    "#sc.fit_transform used to substitute and calculate mean and standard deviation. By using that it will calculate X_Train\n",
    "X_Train = sc.fit_transform(X_Train)\n",
    "#Below we didn't mention \"fit\" because it will use same mean and standard deviation calculated above\n",
    "X_Test = sc.transform(X_Test)\n"
   ]
  },
  {
   "cell_type": "code",
   "execution_count": 9,
   "id": "33d2e2be-bb59-452d-9d3a-974ead29d640",
   "metadata": {},
   "outputs": [],
   "source": [
    "#Using standardization function from sklearn\n",
    "#Standardization is done for converting large values into a range of values to get better results and save memory\n",
    "from sklearn.preprocessing import StandardScaler\n",
    "scy = StandardScaler()\n",
    "#sc.fit_transform used to substitute and calculate mean and standard deviation. By using that it will calculate X_Train\n",
    "Y_Train = scy.fit_transform(Y_Train)\n",
    "#Below we didn't mention \"fit\" because it will use same mean and standard deviation calculated above\n",
    "Y_Test = scy.transform(Y_Test)"
   ]
  },
  {
   "cell_type": "code",
   "execution_count": 10,
   "id": "b619a5e5-f62e-4f7b-bfe3-3bbe05e3ed52",
   "metadata": {},
   "outputs": [
    {
     "name": "stderr",
     "output_type": "stream",
     "text": [
      "C:\\Users\\DELL\\anaconda3\\Lib\\site-packages\\sklearn\\utils\\validation.py:1143: DataConversionWarning: A column-vector y was passed when a 1d array was expected. Please change the shape of y to (n_samples, ), for example using ravel().\n",
      "  y = column_or_1d(y, warn=True)\n"
     ]
    },
    {
     "data": {
      "text/html": [
       "<style>#sk-container-id-1 {color: black;background-color: white;}#sk-container-id-1 pre{padding: 0;}#sk-container-id-1 div.sk-toggleable {background-color: white;}#sk-container-id-1 label.sk-toggleable__label {cursor: pointer;display: block;width: 100%;margin-bottom: 0;padding: 0.3em;box-sizing: border-box;text-align: center;}#sk-container-id-1 label.sk-toggleable__label-arrow:before {content: \"▸\";float: left;margin-right: 0.25em;color: #696969;}#sk-container-id-1 label.sk-toggleable__label-arrow:hover:before {color: black;}#sk-container-id-1 div.sk-estimator:hover label.sk-toggleable__label-arrow:before {color: black;}#sk-container-id-1 div.sk-toggleable__content {max-height: 0;max-width: 0;overflow: hidden;text-align: left;background-color: #f0f8ff;}#sk-container-id-1 div.sk-toggleable__content pre {margin: 0.2em;color: black;border-radius: 0.25em;background-color: #f0f8ff;}#sk-container-id-1 input.sk-toggleable__control:checked~div.sk-toggleable__content {max-height: 200px;max-width: 100%;overflow: auto;}#sk-container-id-1 input.sk-toggleable__control:checked~label.sk-toggleable__label-arrow:before {content: \"▾\";}#sk-container-id-1 div.sk-estimator input.sk-toggleable__control:checked~label.sk-toggleable__label {background-color: #d4ebff;}#sk-container-id-1 div.sk-label input.sk-toggleable__control:checked~label.sk-toggleable__label {background-color: #d4ebff;}#sk-container-id-1 input.sk-hidden--visually {border: 0;clip: rect(1px 1px 1px 1px);clip: rect(1px, 1px, 1px, 1px);height: 1px;margin: -1px;overflow: hidden;padding: 0;position: absolute;width: 1px;}#sk-container-id-1 div.sk-estimator {font-family: monospace;background-color: #f0f8ff;border: 1px dotted black;border-radius: 0.25em;box-sizing: border-box;margin-bottom: 0.5em;}#sk-container-id-1 div.sk-estimator:hover {background-color: #d4ebff;}#sk-container-id-1 div.sk-parallel-item::after {content: \"\";width: 100%;border-bottom: 1px solid gray;flex-grow: 1;}#sk-container-id-1 div.sk-label:hover label.sk-toggleable__label {background-color: #d4ebff;}#sk-container-id-1 div.sk-serial::before {content: \"\";position: absolute;border-left: 1px solid gray;box-sizing: border-box;top: 0;bottom: 0;left: 50%;z-index: 0;}#sk-container-id-1 div.sk-serial {display: flex;flex-direction: column;align-items: center;background-color: white;padding-right: 0.2em;padding-left: 0.2em;position: relative;}#sk-container-id-1 div.sk-item {position: relative;z-index: 1;}#sk-container-id-1 div.sk-parallel {display: flex;align-items: stretch;justify-content: center;background-color: white;position: relative;}#sk-container-id-1 div.sk-item::before, #sk-container-id-1 div.sk-parallel-item::before {content: \"\";position: absolute;border-left: 1px solid gray;box-sizing: border-box;top: 0;bottom: 0;left: 50%;z-index: -1;}#sk-container-id-1 div.sk-parallel-item {display: flex;flex-direction: column;z-index: 1;position: relative;background-color: white;}#sk-container-id-1 div.sk-parallel-item:first-child::after {align-self: flex-end;width: 50%;}#sk-container-id-1 div.sk-parallel-item:last-child::after {align-self: flex-start;width: 50%;}#sk-container-id-1 div.sk-parallel-item:only-child::after {width: 0;}#sk-container-id-1 div.sk-dashed-wrapped {border: 1px dashed gray;margin: 0 0.4em 0.5em 0.4em;box-sizing: border-box;padding-bottom: 0.4em;background-color: white;}#sk-container-id-1 div.sk-label label {font-family: monospace;font-weight: bold;display: inline-block;line-height: 1.2em;}#sk-container-id-1 div.sk-label-container {text-align: center;}#sk-container-id-1 div.sk-container {/* jupyter's `normalize.less` sets `[hidden] { display: none; }` but bootstrap.min.css set `[hidden] { display: none !important; }` so we also need the `!important` here to be able to override the default hidden behavior on the sphinx rendered scikit-learn.org. See: https://github.com/scikit-learn/scikit-learn/issues/21755 */display: inline-block !important;position: relative;}#sk-container-id-1 div.sk-text-repr-fallback {display: none;}</style><div id=\"sk-container-id-1\" class=\"sk-top-container\"><div class=\"sk-text-repr-fallback\"><pre>SVR(kernel=&#x27;sigmoid&#x27;)</pre><b>In a Jupyter environment, please rerun this cell to show the HTML representation or trust the notebook. <br />On GitHub, the HTML representation is unable to render, please try loading this page with nbviewer.org.</b></div><div class=\"sk-container\" hidden><div class=\"sk-item\"><div class=\"sk-estimator sk-toggleable\"><input class=\"sk-toggleable__control sk-hidden--visually\" id=\"sk-estimator-id-1\" type=\"checkbox\" checked><label for=\"sk-estimator-id-1\" class=\"sk-toggleable__label sk-toggleable__label-arrow\">SVR</label><div class=\"sk-toggleable__content\"><pre>SVR(kernel=&#x27;sigmoid&#x27;)</pre></div></div></div></div></div>"
      ],
      "text/plain": [
       "SVR(kernel='sigmoid')"
      ]
     },
     "execution_count": 10,
     "metadata": {},
     "output_type": "execute_result"
    }
   ],
   "source": [
    "#Importing SVM alogorithm from sklearn\n",
    "#SVR denotes Support Vector for Regression\n",
    "from sklearn.svm import SVR\n",
    "#Assigning whole SVR funtion to regressor\n",
    "#Regressor = SVR(kernel=\"linear\") while using this we got R2 score as 0.89 without standarization, after standardization it is \"-0.05\"\n",
    "#Regressor = SVR(kernel=\"rbf\") while using this we got R2 score as 0.89 without standarization,  after standardization it is \"-0.05\"\n",
    "#Regressor = SVR(kernel=\"poly\") after standardization it is \"-0.05\"\n",
    "#Regressor = SVR(kernel=\"sigmoid\")\n",
    "Regressor = SVR(kernel=\"sigmoid\")\n",
    "#.fit- like substituting value \n",
    "#substituting train value to create a model\n",
    "Regressor.fit(X_Train, Y_Train)"
   ]
  },
  {
   "cell_type": "code",
   "execution_count": 11,
   "id": "cc3108d8-042d-49f2-8ba2-ae604f5a48b7",
   "metadata": {},
   "outputs": [
    {
     "data": {
      "text/plain": [
       "array([0.1012928])"
      ]
     },
     "execution_count": 11,
     "metadata": {},
     "output_type": "execute_result"
    }
   ],
   "source": [
    "Regressor.intercept_\n",
    "#to check Origin Value"
   ]
  },
  {
   "cell_type": "code",
   "execution_count": 12,
   "id": "a74cd8c1-6290-4f6c-a8fa-46f8aaa80112",
   "metadata": {},
   "outputs": [
    {
     "data": {
      "text/plain": [
       "array([33])"
      ]
     },
     "execution_count": 12,
     "metadata": {},
     "output_type": "execute_result"
    }
   ],
   "source": [
    "Regressor.n_support_\n",
    "#to check how many support vectors"
   ]
  },
  {
   "cell_type": "code",
   "execution_count": 13,
   "id": "a7979951-bedb-49a9-9ff5-127e98d2405e",
   "metadata": {},
   "outputs": [],
   "source": [
    "#to find predicted value from test data\n",
    "Y_Pred = Regressor.predict(X_Test)"
   ]
  },
  {
   "cell_type": "code",
   "execution_count": 14,
   "id": "8467a7ea-0118-4da0-9e44-aa549a56af92",
   "metadata": {},
   "outputs": [
    {
     "data": {
      "text/plain": [
       "0.5903703405409919"
      ]
     },
     "execution_count": 14,
     "metadata": {},
     "output_type": "execute_result"
    }
   ],
   "source": [
    "#Evaluate using R2 metrics\n",
    "from sklearn.metrics import r2_score\n",
    "#passing actual output of test and predict output to evaluate\n",
    "R_Score = r2_score(Y_Test, Y_Pred)\n",
    "#Check R_Score Value\n",
    "R_Score\n",
    "#if value near to 1 it is good model , near to 0 bad model"
   ]
  },
  {
   "cell_type": "code",
   "execution_count": 15,
   "id": "8dc0589f-54b4-44ef-ba7e-fb0bb90e682c",
   "metadata": {},
   "outputs": [],
   "source": [
    "import pickle\n",
    "filename = 'final_Model_Svr2.sav'\n",
    "Sci_File = 'Scloadfile.sav'\n"
   ]
  },
  {
   "cell_type": "code",
   "execution_count": 16,
   "id": "ce261a52-6c4d-4bce-9373-2b3f0b1c7b1a",
   "metadata": {},
   "outputs": [],
   "source": [
    "#Scy_File = 'Scoloadfile.sav'"
   ]
  },
  {
   "cell_type": "code",
   "execution_count": 17,
   "id": "f3e018ce-f4f5-48f7-9606-63fa416d1b98",
   "metadata": {},
   "outputs": [],
   "source": [
    "pickle.dump(Regressor,open(filename,'wb'))\n",
    "pickle.dump(([sc,scy]),open(Sci_File,'wb'))\n",
    "#pickle.dump(scy,open(Scy_File,'wb'))"
   ]
  },
  {
   "cell_type": "code",
   "execution_count": 18,
   "id": "3486398d-d1e3-406b-947b-343f0cb2b002",
   "metadata": {},
   "outputs": [
    {
     "name": "stderr",
     "output_type": "stream",
     "text": [
      "C:\\Users\\DELL\\anaconda3\\Lib\\site-packages\\sklearn\\base.py:439: UserWarning: X does not have valid feature names, but StandardScaler was fitted with feature names\n",
      "  warnings.warn(\n"
     ]
    }
   ],
   "source": [
    "preinput=sc.transform([[1300,2000,3000,0,1]])"
   ]
  },
  {
   "cell_type": "code",
   "execution_count": 19,
   "id": "209d4362-2d4f-43cc-b7ab-c8c7426dd7e9",
   "metadata": {},
   "outputs": [
    {
     "data": {
      "text/plain": [
       "array([[-1.46755405, -4.72654407, -1.51510487, -0.5       ,  1.30088727]])"
      ]
     },
     "execution_count": 19,
     "metadata": {},
     "output_type": "execute_result"
    }
   ],
   "source": [
    "preinput"
   ]
  },
  {
   "cell_type": "code",
   "execution_count": 20,
   "id": "2e7c02fa-1c8b-47e1-b7a2-40dc137e4804",
   "metadata": {},
   "outputs": [],
   "source": [
    "loaded_Model = pickle.load((open(\"final_Model_Svr2.sav\",'rb')))\n",
    "loaded_Sc = pickle.load((open(\"Scloadfile.sav\",'rb')))\n",
    "#loaded_Scy = pickle.load((open(\"Scoloadfile.sav\",'rb')))\n",
    "result=loaded_Model.predict(preinput)"
   ]
  },
  {
   "cell_type": "code",
   "execution_count": 21,
   "id": "e3f1dfe6-7c76-4f49-8484-37bdfc49e766",
   "metadata": {},
   "outputs": [
    {
     "data": {
      "text/plain": [
       "array([-0.0801367])"
      ]
     },
     "execution_count": 21,
     "metadata": {},
     "output_type": "execute_result"
    }
   ],
   "source": [
    "result"
   ]
  },
  {
   "cell_type": "code",
   "execution_count": null,
   "id": "1166fcf8-f94c-4b61-b7d6-4b4e3b3749dc",
   "metadata": {},
   "outputs": [],
   "source": []
  }
 ],
 "metadata": {
  "kernelspec": {
   "display_name": "Python 3 (ipykernel)",
   "language": "python",
   "name": "python3"
  },
  "language_info": {
   "codemirror_mode": {
    "name": "ipython",
    "version": 3
   },
   "file_extension": ".py",
   "mimetype": "text/x-python",
   "name": "python",
   "nbconvert_exporter": "python",
   "pygments_lexer": "ipython3",
   "version": "3.11.7"
  }
 },
 "nbformat": 4,
 "nbformat_minor": 5
}
