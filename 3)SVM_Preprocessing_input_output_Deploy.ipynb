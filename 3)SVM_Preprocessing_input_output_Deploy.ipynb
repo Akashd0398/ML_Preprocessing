{
 "cells": [
  {
   "cell_type": "code",
   "execution_count": 22,
   "id": "3dbb47d9-cb89-4d4a-ad7c-fb0180e985a4",
   "metadata": {},
   "outputs": [],
   "source": [
    "import pickle"
   ]
  },
  {
   "cell_type": "code",
   "execution_count": 23,
   "id": "5c0f9e5a-2c96-4a1a-a8f9-d92e73d82e80",
   "metadata": {},
   "outputs": [],
   "source": [
    "import pandas as pd\n",
    "dataset = pd.read_csv(\"50_Startups.csv\")"
   ]
  },
  {
   "cell_type": "code",
   "execution_count": 24,
   "id": "c17ab76a-84c3-4259-b51c-c5de19bae8d8",
   "metadata": {},
   "outputs": [],
   "source": [
    "dataset = pd.get_dummies(dataset,dtype=int, drop_first = True)\n",
    "independent=dataset[['R&D Spend', 'Administration', 'Marketing Spend','State_Florida', 'State_New York']]\n",
    "dependent=dataset[['Profit']]\n",
    "#Spliting training set and test set using sklearn\n",
    "from sklearn.model_selection import train_test_split\n",
    "#X - Input , Y - output\n",
    "X_Train, X_Test, Y_Train, Y_Test = train_test_split(independent, dependent, test_size = 0.30, random_state=0)"
   ]
  },
  {
   "cell_type": "code",
   "execution_count": 25,
   "id": "bd39192d-f764-4d20-a65b-723f7c06a756",
   "metadata": {},
   "outputs": [],
   "source": [
    "from sklearn.preprocessing import StandardScaler\n",
    "Sc = StandardScaler()\n",
    "#sc.fit_transform used to substitute and calculate mean and standard deviation. By using that it will calculate X_Train\n",
    "X_Train = Sc.fit_transform(X_Train)\n",
    "#Below we didn't mention \"fit\" because it will use same mean and standard deviation calculated above\n",
    "X_Test = Sc.transform(X_Test)\n",
    "#loaded_Sc = pickle.load((open(\"Sciloadfile.sav\",'rb')))"
   ]
  },
  {
   "cell_type": "code",
   "execution_count": 26,
   "id": "2adc69a8-79a9-410d-8c59-d2d761947223",
   "metadata": {},
   "outputs": [
    {
     "name": "stderr",
     "output_type": "stream",
     "text": [
      "C:\\Users\\DELL\\anaconda3\\Lib\\site-packages\\sklearn\\base.py:439: UserWarning: X does not have valid feature names, but StandardScaler was fitted with feature names\n",
      "  warnings.warn(\n"
     ]
    }
   ],
   "source": [
    "preinput=Sc.transform([[1300,2000,3000,0,1]])"
   ]
  },
  {
   "cell_type": "code",
   "execution_count": 27,
   "id": "5f52e0c3-e88e-4b9f-9493-05c50d3a4a42",
   "metadata": {},
   "outputs": [
    {
     "data": {
      "text/plain": [
       "array([[-1.46755405, -4.72654407, -1.51510487, -0.5       ,  1.30088727]])"
      ]
     },
     "execution_count": 27,
     "metadata": {},
     "output_type": "execute_result"
    }
   ],
   "source": [
    "preinput"
   ]
  },
  {
   "cell_type": "code",
   "execution_count": 28,
   "id": "f91126df-3acc-4725-8c23-fcf453548a5c",
   "metadata": {},
   "outputs": [],
   "source": [
    "loaded_Model = pickle.load((open(\"final_Model_Svr2.sav\",'rb')))\n",
    "result=loaded_Model.predict(preinput)"
   ]
  },
  {
   "cell_type": "code",
   "execution_count": 29,
   "id": "f1b54380-83b1-4e83-87c0-0c82ab79960a",
   "metadata": {},
   "outputs": [
    {
     "data": {
      "text/plain": [
       "array([-0.0801367])"
      ]
     },
     "execution_count": 29,
     "metadata": {},
     "output_type": "execute_result"
    }
   ],
   "source": [
    "result"
   ]
  },
  {
   "cell_type": "code",
   "execution_count": 20,
   "id": "e41aa811-53d1-432c-97fd-e8b8775ff56b",
   "metadata": {},
   "outputs": [],
   "source": [
    "#loaded_Scy = pickle.load((open(\"Scoloadfile.sav\",'rb')))"
   ]
  },
  {
   "cell_type": "code",
   "execution_count": 30,
   "id": "d893663a-e1ce-43f5-a926-7f537f214aa7",
   "metadata": {},
   "outputs": [],
   "source": [
    "Scy = StandardScaler()\n",
    "#sc.fit_transform used to substitute and calculate mean and standard deviation. By using that it will calculate X_Train\n",
    "Y_Train = Scy.fit_transform(Y_Train)\n",
    "#Below we didn't mention \"fit\" because it will use same mean and standard deviation calculated above\n",
    "Y_Test = Scy.transform(Y_Test)\n"
   ]
  },
  {
   "cell_type": "code",
   "execution_count": 31,
   "id": "74d00933-e426-49a6-bb7f-79429e6ea991",
   "metadata": {},
   "outputs": [
    {
     "data": {
      "text/plain": [
       "array([[106778.41966369]])"
      ]
     },
     "execution_count": 31,
     "metadata": {},
     "output_type": "execute_result"
    }
   ],
   "source": [
    "preoutput = Scy.inverse_transform([result])\n",
    "preoutput"
   ]
  },
  {
   "cell_type": "code",
   "execution_count": null,
   "id": "e527c45a-3a03-49fc-80da-31907c8f9134",
   "metadata": {},
   "outputs": [],
   "source": []
  }
 ],
 "metadata": {
  "kernelspec": {
   "display_name": "Python 3 (ipykernel)",
   "language": "python",
   "name": "python3"
  },
  "language_info": {
   "codemirror_mode": {
    "name": "ipython",
    "version": 3
   },
   "file_extension": ".py",
   "mimetype": "text/x-python",
   "name": "python",
   "nbconvert_exporter": "python",
   "pygments_lexer": "ipython3",
   "version": "3.11.7"
  }
 },
 "nbformat": 4,
 "nbformat_minor": 5
}
